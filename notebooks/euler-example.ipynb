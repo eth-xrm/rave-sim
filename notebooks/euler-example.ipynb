{
 "cells": [
  {
   "cell_type": "markdown",
   "id": "5fa39506",
   "metadata": {},
   "source": [
    "# Running on Euler Example\n",
    "\n",
    "First set up the environment as described in `big-wave/Readme.md`, and then remember to update the path to the `rave-sim` directory and the desired simulation output directory below.\n",
    "\n",
    "The `$SCRATCH` variable available on Euler is [intended for such data](https://scicomp.ethz.ch/wiki/Storage_systems#Personal_storage_.28everyone.29), ideally a subdirectory of `$SCRATCH` is used.\n",
    "\n",
    "During an out-of-core simulation we read and write to the same files many times, so ideally we want to select a directory that is on the same node as where we run the code. For this purpose, SLURM provides the [local scratch directory](https://scicomp.ethz.ch/wiki/Using_local_scratch). We configure the required space via `--tmp={required_scratch_megs}` and then get the path through `$TMPDIR`.\n",
    "\n",
    "We generate a `slurm-job.sh` script which can be launched with `sbatch`. The job uses a [job array](https://scicomp.ethz.ch/wiki/Job_arrays) with one task per source point."
   ]
  },
  {
   "cell_type": "code",
   "execution_count": null,
   "id": "3380fd9f-fe1a-441b-a94c-57defa74e218",
   "metadata": {},
   "outputs": [],
   "source": [
    "import os\n",
    "import sys\n",
    "from pathlib import Path\n",
    "import numpy as np\n",
    "import matplotlib.pyplot as plt"
   ]
  },
  {
   "cell_type": "code",
   "execution_count": null,
   "id": "e95f89a6",
   "metadata": {},
   "outputs": [],
   "source": [
    "rave_sim_dir = Path(\"../\")\n",
    "simulations_dir = Path(os.environ.get(\"SCRATCH\") or \"/tmp\") / \"simulations\"\n",
    "simulations_dir.mkdir(exist_ok=True)"
   ]
  },
  {
   "cell_type": "code",
   "execution_count": null,
   "id": "141a157e",
   "metadata": {},
   "outputs": [],
   "source": [
    "sys.path.insert(0, str(rave_sim_dir / \"big-wave\"))\n",
    "import multisim\n",
    "import util"
   ]
  },
  {
   "cell_type": "code",
   "execution_count": null,
   "id": "d84023e0-ba4d-48da-a22d-b65c817e690a",
   "metadata": {},
   "outputs": [],
   "source": [
    "config_dict = {\n",
    "    \"sim_params\": {\n",
    "        \"N\": 2**24,\n",
    "        \"dx\": 3.1e-10,\n",
    "        \"z_detector\": 1.77,\n",
    "        \"detector_size\": 1e-3,\n",
    "        \"detector_pixel_size\": 75e-6,\n",
    "        \"chunk_size\": 256 * 1024 * 1024 // 16,  # use 256MB chunks\n",
    "    },\n",
    "    \"use_disk_vector\": True,\n",
    "    \"save_final_u_vectors\": False,\n",
    "    \"multisource\": {\n",
    "        \"type\": \"points\",\n",
    "        \"energy_range\": [46000.0, 47000.0],\n",
    "        \"x_range\": [-1e-6, 1e-6],\n",
    "        \"z\": 0.0,\n",
    "        \"nr_source_points\": 12,\n",
    "        \"seed\": 1,\n",
    "    },\n",
    "    \"elements\": [\n",
    "        {\n",
    "            \"type\": \"grating\",\n",
    "            \"pitch\": 4.2e-6,\n",
    "            \"dc\": [0.5, 0.5],\n",
    "            \"z_start\": 0.1,\n",
    "            \"thickness\": 140e-6,\n",
    "            \"nr_steps\": 10,\n",
    "            \"x_positions\": [0.0],\n",
    "            \"substrate_thickness\": (370 - 140) * 1e-6,\n",
    "            \"mat_a\": [\"Si\", 2.34],\n",
    "            \"mat_b\": [\"Au\", 19.32],\n",
    "            \"mat_substrate\": [\"Si\", 2.34],\n",
    "        },\n",
    "        {\n",
    "            \"type\": \"grating\",\n",
    "            \"pitch\": 4.2e-6,\n",
    "            \"dc\": [0.5, 0.5],\n",
    "            \"z_start\": 0.918,\n",
    "            \"thickness\": 59e-6,\n",
    "            \"nr_steps\": 10,\n",
    "            \"x_positions\": [0.0],\n",
    "            \"substrate_thickness\": (200 - 59) * 1e-6,\n",
    "            \"mat_a\": [\"Si\", 2.34],\n",
    "            \"mat_b\": None,\n",
    "            \"mat_substrate\": [\"Si\", 2.34],\n",
    "        },\n",
    "        {\n",
    "            \"type\": \"grating\",\n",
    "            \"pitch\": 4.2e-6,\n",
    "            \"dc\": [0.5, 0.5],\n",
    "            \"z_start\": 1.736,\n",
    "            \"thickness\": 154e-6,\n",
    "            \"nr_steps\": 10,\n",
    "            \"x_positions\": (np.arange(5) * 4.2e-6).tolist(),\n",
    "            \"substrate_thickness\": (370 - 154) * 1e-6,\n",
    "            \"mat_a\": [\"Si\", 2.34],\n",
    "            \"mat_b\": [\"Au\", 19.32],\n",
    "            \"mat_substrate\": [\"Si\", 2.34],\n",
    "        },\n",
    "    ],\n",
    "}\n",
    "\n",
    "print(\"N: \", config_dict[\"sim_params\"][\"N\"])"
   ]
  },
  {
   "cell_type": "code",
   "execution_count": null,
   "id": "0e6440ec",
   "metadata": {},
   "outputs": [],
   "source": [
    "sim_path = multisim.setup_simulation(config_dict, Path(\".\"), simulations_dir)"
   ]
  },
  {
   "cell_type": "code",
   "execution_count": null,
   "id": "01fb33c7-f97d-46dc-814e-dcbab8bd2084",
   "metadata": {},
   "outputs": [],
   "source": [
    "required_scratch_megs = int(config_dict[\"sim_params\"][\"N\"] * 3 * 16 / 1024 / 1024) + 10\n",
    "\n",
    "\n",
    "def job(sim_path: Path, nr_source_points: int) -> str:\n",
    "    return f\"\"\"#!/usr/bin/env bash\n",
    "\n",
    "#SBATCH --array=0-{nr_source_points - 1}\n",
    "#SBATCH --ntasks=1\n",
    "#SBATCH --time=3:55:00\n",
    "#SBATCH --tmp={required_scratch_megs}\n",
    "#SBATCH --mem-per-cpu=2G\n",
    "#SBATCH --output=\"{str(sim_path / \"slurm-out-%a.txt\")}\"\n",
    "#SBATCH --error=\"{str(sim_path / \"slurm-err-%a.txt\")}\"\n",
    "\n",
    "if [ ! -f multisim.py ]; then\n",
    "    echo \"This script should be run in the big-wave directory\"\n",
    "    exit 1\n",
    "fi\n",
    "\n",
    "hostname\n",
    "echo \"jobid = $SLURM_JOB_ID\"\n",
    "echo \"taskid = $SLURM_ARRAY_TASK_ID\"\n",
    "echo \"tmpdir = $TMPDIR\"\n",
    "\n",
    "python3 <<EOF\n",
    "from pathlib import Path\n",
    "import os\n",
    "import multisim\n",
    "multisim.run_single_simulation(Path(\"{str(sim_path)}\"), $SLURM_ARRAY_TASK_ID, Path(os.environ[\"TMPDIR\"]))\n",
    "EOF\n",
    "\"\"\"\n",
    "\n",
    "\n",
    "print(\"Run the following command in a shell from the big-wave directory.\")\n",
    "print(\"Make sure that an apropriate python environment activated.\")\n",
    "print()\n",
    "p = sim_path / \"slurm-job.sh\"\n",
    "with open(p, \"w\") as f:\n",
    "    f.write(job(sim_path, config_dict[\"multisource\"][\"nr_source_points\"]))\n",
    "\n",
    "    print(f\"sbatch {str(p)}\")"
   ]
  },
  {
   "cell_type": "markdown",
   "id": "73d6b0f8",
   "metadata": {},
   "source": [
    "## Analysis\n",
    "\n",
    "Once the job array is finished, the outputs can be loaded using the `util.load_wavefronts_filtered` function."
   ]
  },
  {
   "cell_type": "code",
   "execution_count": null,
   "id": "9363befa",
   "metadata": {},
   "outputs": [],
   "source": [
    "wavefronts = util.load_wavefronts_filtered(sim_path, x_range=None, energy_range=None)\n",
    "wf = wavefronts[0][0]"
   ]
  },
  {
   "cell_type": "code",
   "execution_count": null,
   "id": "173a4986",
   "metadata": {},
   "outputs": [],
   "source": [
    "sp = config_dict[\"sim_params\"]\n",
    "detector_x = util.detector_x_vector(sp[\"detector_size\"], sp[\"detector_pixel_size\"])\n",
    "plt.plot(detector_x, wf[0])"
   ]
  }
 ],
 "metadata": {
  "kernelspec": {
   "display_name": "Python 3 (ipykernel)",
   "language": "python",
   "name": "python3"
  },
  "language_info": {
   "codemirror_mode": {
    "name": "ipython",
    "version": 3
   },
   "file_extension": ".py",
   "mimetype": "text/x-python",
   "name": "python",
   "nbconvert_exporter": "python",
   "pygments_lexer": "ipython3",
   "version": "3.11.3"
  }
 },
 "nbformat": 4,
 "nbformat_minor": 5
}
