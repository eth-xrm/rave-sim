{
 "cells": [
  {
   "cell_type": "code",
   "execution_count": null,
   "id": "51cf9d73",
   "metadata": {},
   "outputs": [],
   "source": [
    "# Copyright (c) 2024, ETH Zurich"
   ]
  },
  {
   "cell_type": "code",
   "execution_count": null,
   "id": "3380fd9f-fe1a-441b-a94c-57defa74e218",
   "metadata": {},
   "outputs": [],
   "source": [
    "import sys\n",
    "from pathlib import Path\n",
    "import numpy as np\n",
    "from scipy.interpolate import interp1d\n",
    "import matplotlib.pyplot as plt\n",
    "from tqdm import tqdm\n",
    "import os\n",
    "import h5py"
   ]
  },
  {
   "cell_type": "code",
   "execution_count": null,
   "id": "e95f89a6",
   "metadata": {},
   "outputs": [],
   "source": [
    "rave_sim_dir = Path('path/to/rave-sim')\n",
    "simulations_dir = Path('path/to/data/output')\n",
    "scratch_dir = simulations_dir"
   ]
  },
  {
   "cell_type": "code",
   "execution_count": null,
   "id": "141a157e",
   "metadata": {},
   "outputs": [],
   "source": [
    "sys.path.insert(0, str(rave_sim_dir / \"big-wave\"))\n",
    "import multisim\n",
    "import config\n",
    "import util\n",
    "from nist_lookup.xraydb_plugin import xray_delta_beta"
   ]
  },
  {
   "cell_type": "code",
   "execution_count": null,
   "id": "6bbabac6-3195-43a6-86ad-0d20de0b4362",
   "metadata": {},
   "outputs": [],
   "source": [
    "# constants\n",
    "h = 6.62607004 * 10**(-34) # planck constant in mˆ2 kg / s\n",
    "c_0 = 299792458 # speed of light in m / s\n",
    "eV_to_joule = 1.602176634*10**(-19)\n",
    "N_A = 6.02214086 * 10**23 #[1/mol]"
   ]
  },
  {
   "cell_type": "code",
   "execution_count": null,
   "id": "ab2118db-f078-497d-9359-60d0c03c2497",
   "metadata": {},
   "outputs": [],
   "source": [
    "def bin_me_res(data, x_axis, new_dx, axis=-2):\n",
    "    \"\"\"\n",
    "    data must have dimensions:\n",
    "    [x, z]\n",
    "    \"\"\"\n",
    "    if axis!=-2:\n",
    "        data = np.swapaxes(data, axis, -2)\n",
    "    dx = abs(x_axis[1]-x_axis[0])\n",
    "    binning = int(new_dx/dx)\n",
    "    bin_range= int(data.shape[-2]/binning)\n",
    "    if binning<2:\n",
    "        print(\"no binnin necessary\")\n",
    "        return data\n",
    "    sol = np.zeros((*data.shape[:-2],int(data.shape[-2]/binning),data.shape[-1]))\n",
    "    new_x_grid = []\n",
    "    for i in range(bin_range):\n",
    "        sol[...,i,:] = np.sum(data[...,i*binning:(i+1)*binning,:], axis=-2)#[:,np.newaxis, :]\n",
    "        new_x_grid.append(x_axis[...,i*binning+int(binning/2)])\n",
    "    if axis!=-2:\n",
    "        sol = np.swapaxes(sol, -2, axis)\n",
    "    return sol, np.asarray(new_x_grid)"
   ]
  },
  {
   "cell_type": "code",
   "execution_count": null,
   "id": "8bab2d4c-e3f5-4a88-9a51-d6114230ee56",
   "metadata": {},
   "outputs": [],
   "source": []
  },
  {
   "cell_type": "code",
   "execution_count": null,
   "id": "61150fbc-969d-4080-affe-6a729fe83f3b",
   "metadata": {},
   "outputs": [],
   "source": [
    "import spekpy as spk\n",
    "from scipy import interpolate"
   ]
  },
  {
   "cell_type": "code",
   "execution_count": null,
   "id": "58a8ed66-16f4-4855-8120-547f43d606bf",
   "metadata": {},
   "outputs": [],
   "source": [
    "s = spk.Spek(kvp=40, dk = 0.1, th = 90) # Create a spectrum\n",
    "s.multi_filter((('Be', 0.15), ('Si', 0))) # Create a spectrum\n",
    "k, f = s.get_spectrum(edges=True) # Get the spectrum\n",
    "\n",
    "energyRange = [10000, 40000]\n",
    "dE = 100\n",
    "filtering = 0.000\n",
    "\n",
    "energies = np.arange(10, 40+0.1, 0.1)*1e3\n",
    "\n",
    "\n",
    "tube_spectrum_txt = interpolate.interp1d(k*1e3, f, fill_value = 'extrapolate')\n",
    "spec_txt = tube_spectrum_txt(energies)\n",
    "\n",
    "with h5py.File('path/to/simulation_spectrum_file.h5', 'w') as h5:\n",
    "    h5.create_dataset('pdf', data =  spec_txt/ np.sum(spec_txt))\n",
    "    h5.create_dataset('energy', data = energies)"
   ]
  },
  {
   "cell_type": "code",
   "execution_count": null,
   "id": "db8cbdab-6609-496c-badc-3cc8275ed40c",
   "metadata": {},
   "outputs": [],
   "source": [
    "plt.plot(energies,spec_txt)"
   ]
  },
  {
   "cell_type": "code",
   "execution_count": null,
   "id": "2e9879d4-406e-49e9-b392-449d785a2302",
   "metadata": {},
   "outputs": [],
   "source": []
  },
  {
   "cell_type": "code",
   "execution_count": null,
   "id": "2b19be2e-28ac-47e8-804f-8e44f9aa8192",
   "metadata": {},
   "outputs": [],
   "source": []
  },
  {
   "cell_type": "markdown",
   "id": "4191a740-c6e7-4c93-9d9d-079abaf1a19b",
   "metadata": {},
   "source": [
    "# tapering"
   ]
  },
  {
   "cell_type": "code",
   "execution_count": null,
   "id": "3b02bb82-48fd-4548-b131-2479e0cf1ed9",
   "metadata": {},
   "outputs": [],
   "source": [
    "p = 1e-6\n",
    "thick = 28.17e-6\n",
    "s=1.0\n",
    "d1=0.5\n",
    "d2=0.00224"
   ]
  },
  {
   "cell_type": "code",
   "execution_count": null,
   "id": "a675152b-ff39-4179-88fe-01a82c6e6877",
   "metadata": {
    "scrolled": true
   },
   "outputs": [],
   "source": [
    "config_dict = {\n",
    "    \"sim_params\": {\n",
    "        \"N\": 2**28,\n",
    "        \"dx\": 0.23e-9,\n",
    "        \"z_detector\": s,\n",
    "        \"detector_size\": 3e-2,\n",
    "        \"detector_pixel_size_x\": 1e-6,\n",
    "        \"detector_pixel_size_y\": 1,\n",
    "        \"chunk_size\": 256 * 1024 * 1024 // 16,  # use 256MB chunks\n",
    "    },\n",
    "    \"dtype\": \"c8\",\n",
    "    \"use_disk_vector\": False,\n",
    "    \"save_final_u_vectors\": False,\n",
    "    \"multisource\": {\n",
    "        \"type\": \"points\",\n",
    "        \"energy_range\": [10000.0, 40000.0],\n",
    "        \"x_range\": [-2.5e-6, 2.5e-6],\n",
    "        \"z\": 0.0,\n",
    "        \"nr_source_points\": 100,\n",
    "        \"seed\": 1,\n",
    "        \"spectrum\": 'path/to/simulation_spectrum_file.h5',\n",
    "    },\n",
    "    \"elements\": [\n",
    "        {\n",
    "            \"type\": \"grating\",\n",
    "            \"pitch\": float(1e-6),\n",
    "            \"dc\": [0.4, 0.5],\n",
    "            \"z_start\": float(d1),#+0.1,\n",
    "            \"thickness\": float(thick),\n",
    "            \"nr_steps\": 20,\n",
    "            \"x_positions\": [0.0],\n",
    "            \"substrate_thickness\": (300 - float(thick)) * 1e-6,\n",
    "            \"mat_a\": [\"Si\", 2.34],\n",
    "            \"mat_b\": None,\n",
    "            \"mat_substrate\": [\"Si\", 2.34],\n",
    "        },\n",
    "        {\n",
    "            \"type\": \"grating\",\n",
    "            \"pitch\": float(1e-6),\n",
    "            \"dc\": [0.4, 0.5],\n",
    "            \"z_start\": float(d1+d2),#+0.1,\n",
    "            \"thickness\": float(thick),\n",
    "            \"nr_steps\": 20,\n",
    "            \"x_positions\": [float(i*1e-6) for i in np.linspace(0,1,11, endpoint=False)],\n",
    "            \"substrate_thickness\": (300 - float(thick)) * 1e-6,\n",
    "            \"mat_a\": [\"Si\", 2.34],\n",
    "            \"mat_b\": None,\n",
    "            \"mat_substrate\": [\"Si\", 2.34],\n",
    "        },\n",
    "    ],\n",
    "}\n",
    "sim_path = multisim.setup_simulation(config_dict, Path(\".\"), simulations_dir)\n",
    "for k in range(config_dict[\"multisource\"][\"nr_source_points\"]):\n",
    "    os.system(f\"CUDA_VISIBLE_DEVICES=0 path/to/rave-sim/fast-wave/build-Release/fastwave -s {k} {sim_path}\")"
   ]
  },
  {
   "cell_type": "code",
   "execution_count": null,
   "id": "1c94d1d2-3d98-4633-a8b8-e6911a64bc49",
   "metadata": {},
   "outputs": [],
   "source": [
    "computed = config.load(Path(sim_path / 'computed.yaml'))\n",
    "wfs_tmp = util.load_wavefronts_filtered(sim_path, x_range=None, energy_range=None)\n",
    "wf = []\n",
    "for j in range(11):\n",
    "    tmp=[]\n",
    "    for k in range(len(computed[\"source_points\"])):\n",
    "        tmp.append(wfs_tmp[k][0][j])\n",
    "    wf.append(tmp)\n",
    "del wfs_tmp\n",
    "wf = np.asarray(wf)"
   ]
  },
  {
   "cell_type": "code",
   "execution_count": null,
   "id": "0f8d36af-f37e-4dbc-86c3-6775454c43fd",
   "metadata": {},
   "outputs": [],
   "source": [
    "wf.shape"
   ]
  },
  {
   "cell_type": "code",
   "execution_count": null,
   "id": "3398bf9f-32cd-4e70-98a3-7665ba13eb6d",
   "metadata": {},
   "outputs": [],
   "source": [
    "my_x = util.full_x_vector(len(wf[0,0]), 1e-6)"
   ]
  },
  {
   "cell_type": "code",
   "execution_count": null,
   "id": "e610dbd0-9ff3-4353-9d59-927f9b6e5c53",
   "metadata": {},
   "outputs": [],
   "source": [
    "def laplace(x, loc=0, scale=1):\n",
    "    return np.exp(-abs(x-loc)/scale)/(2.*scale)/(np.exp(-abs(0)/scale)/(2.*scale))"
   ]
  },
  {
   "cell_type": "code",
   "execution_count": null,
   "id": "eaf6349d-4bf4-4b61-a204-87ce5fa3d8ab",
   "metadata": {},
   "outputs": [],
   "source": [
    "pixel_kernel = np.zeros_like(my_x)\n",
    "limit=1\n",
    "pixel_kernel[abs(my_x)<limit] = 1*laplace(my_x[abs(my_x)<limit], scale=3*16*1e-6)"
   ]
  },
  {
   "cell_type": "code",
   "execution_count": null,
   "id": "e4d32f26-2c6a-4213-8be5-eee673e903e0",
   "metadata": {},
   "outputs": [],
   "source": [
    "plt.plot(my_x/16.4e-6, pixel_kernel, \"x\")\n",
    "# plt.xlim(-5e-5, 5e-5)\n",
    "plt.xlim(-30, 30)"
   ]
  },
  {
   "cell_type": "code",
   "execution_count": null,
   "id": "1d8a34d1-1f9d-41a1-93ab-1d17e7a51231",
   "metadata": {},
   "outputs": [],
   "source": [
    "wf_conv = np.asarray([np.convolve(wf[i].sum(axis=(0)), pixel_kernel[:], \"same\") for i in range(wf.shape[0])])"
   ]
  },
  {
   "cell_type": "code",
   "execution_count": null,
   "id": "2322c3de-c8de-466e-a559-0f6b5c34c73f",
   "metadata": {},
   "outputs": [],
   "source": [
    "wf224 = wf\n",
    "wf_conv224 = wf_conv"
   ]
  },
  {
   "cell_type": "code",
   "execution_count": null,
   "id": "e42d2f07-b281-4eb8-bfe2-e6597b5b7e88",
   "metadata": {},
   "outputs": [],
   "source": [
    "p = 1e-6\n",
    "thick = 28.17e-6\n",
    "s=1.0\n",
    "d1=0.5\n",
    "d2=0.00424"
   ]
  },
  {
   "cell_type": "code",
   "execution_count": null,
   "id": "cd8e5402-723a-4496-88fb-f906b45b2c4a",
   "metadata": {
    "scrolled": true
   },
   "outputs": [],
   "source": [
    "config_dict = {\n",
    "    \"sim_params\": {\n",
    "        \"N\": 2**28,\n",
    "        \"dx\": 0.23e-9,\n",
    "        \"z_detector\": s,\n",
    "        \"detector_size\": 3e-2,\n",
    "        \"detector_pixel_size_x\": 1e-6,\n",
    "        \"detector_pixel_size_y\": 1,\n",
    "        \"chunk_size\": 256 * 1024 * 1024 // 16,  # use 256MB chunks\n",
    "    },\n",
    "    \"dtype\": \"c8\",\n",
    "    \"use_disk_vector\": False,\n",
    "    \"save_final_u_vectors\": False,\n",
    "    \"multisource\": {\n",
    "        \"type\": \"points\",\n",
    "        \"energy_range\": [10000.0, 40000.0],\n",
    "        \"x_range\": [-2.5e-6, 2.5e-6],\n",
    "        \"z\": 0.0,\n",
    "        \"nr_source_points\": 100,\n",
    "        \"seed\": 1,\n",
    "        \"spectrum\": 'path/to/simulation_spectrum_file.h5',\n",
    "    },\n",
    "    \"elements\": [\n",
    "        {\n",
    "            \"type\": \"grating\",\n",
    "            \"pitch\": float(1e-6),\n",
    "            \"dc\": [0.4, 0.5],\n",
    "            \"z_start\": float(d1),#+0.1,\n",
    "            \"thickness\": float(thick),\n",
    "            \"nr_steps\": 20,\n",
    "            \"x_positions\": [0.0],\n",
    "            \"substrate_thickness\": (300 - float(thick)) * 1e-6,\n",
    "            \"mat_a\": [\"Si\", 2.34],\n",
    "            \"mat_b\": None,\n",
    "            \"mat_substrate\": [\"Si\", 2.34],\n",
    "        },\n",
    "        {\n",
    "            \"type\": \"grating\",\n",
    "            \"pitch\": float(1e-6),\n",
    "            \"dc\": [0.4, 0.5],\n",
    "            \"z_start\": float(d1+d2),#+0.1,\n",
    "            \"thickness\": float(thick),\n",
    "            \"nr_steps\": 20,\n",
    "            \"x_positions\": [float(i*1e-6) for i in np.linspace(0,1,11, endpoint=False)],\n",
    "            \"substrate_thickness\": (300 - float(thick)) * 1e-6,\n",
    "            \"mat_a\": [\"Si\", 2.34],\n",
    "            \"mat_b\": None,\n",
    "            \"mat_substrate\": [\"Si\", 2.34],\n",
    "        },\n",
    "    ],\n",
    "}\n",
    "sim_path = multisim.setup_simulation(config_dict, Path(\".\"), simulations_dir)\n",
    "for k in range(config_dict[\"multisource\"][\"nr_source_points\"]):\n",
    "    os.system(f\"CUDA_VISIBLE_DEVICES=0 path/to/rave-sim/fast-wave/build-Release/fastwave -s {k} {sim_path}\")"
   ]
  },
  {
   "cell_type": "code",
   "execution_count": null,
   "id": "e6da3ed7-d91b-4c8a-b345-54a12dfc2dd1",
   "metadata": {},
   "outputs": [],
   "source": [
    "computed = config.load(Path(sim_path / 'computed.yaml'))\n",
    "wfs_tmp = util.load_wavefronts_filtered(sim_path, x_range=None, energy_range=None)\n",
    "wf = []\n",
    "for j in range(11):\n",
    "    tmp=[]\n",
    "    for k in range(len(computed[\"source_points\"])):\n",
    "        tmp.append(wfs_tmp[k][0][j])\n",
    "    wf.append(tmp)\n",
    "del wfs_tmp\n",
    "wf = np.asarray(wf)"
   ]
  },
  {
   "cell_type": "code",
   "execution_count": null,
   "id": "9d2337c2-2a18-40d7-a77d-b379c10a379d",
   "metadata": {},
   "outputs": [],
   "source": [
    "wf.shape"
   ]
  },
  {
   "cell_type": "code",
   "execution_count": null,
   "id": "4ba06ec5-b8f1-4e85-9fd6-3ec1ac2c9792",
   "metadata": {},
   "outputs": [],
   "source": [
    "wf_conv = np.asarray([np.convolve(wf[i].sum(axis=(0)), pixel_kernel[:], \"same\") for i in range(wf.shape[0])])"
   ]
  },
  {
   "cell_type": "code",
   "execution_count": null,
   "id": "77849908-7738-4e49-8760-b52ebab3e920",
   "metadata": {},
   "outputs": [],
   "source": [
    "wf424 = wf\n",
    "wf_conv424 = wf_conv"
   ]
  },
  {
   "cell_type": "code",
   "execution_count": null,
   "id": "2db0f1f5-80da-4984-9ef7-23af7c506311",
   "metadata": {},
   "outputs": [],
   "source": [
    "p = 1e-6\n",
    "thick = 28.17e-6\n",
    "s=1.0\n",
    "d1=0.5\n",
    "d2=0.00624"
   ]
  },
  {
   "cell_type": "code",
   "execution_count": null,
   "id": "dbaf41e9-d5a6-4178-a930-5be49cf6d0d9",
   "metadata": {
    "scrolled": true
   },
   "outputs": [],
   "source": [
    "config_dict = {\n",
    "    \"sim_params\": {\n",
    "        \"N\": 2**28,\n",
    "        \"dx\": 0.23e-9,\n",
    "        \"z_detector\": s,\n",
    "        \"detector_size\": 3e-2,\n",
    "        \"detector_pixel_size_x\": 1e-6,\n",
    "        \"detector_pixel_size_y\": 1,\n",
    "        \"chunk_size\": 256 * 1024 * 1024 // 16,  # use 256MB chunks\n",
    "    },\n",
    "    \"dtype\": \"c8\",\n",
    "    \"use_disk_vector\": False,\n",
    "    \"save_final_u_vectors\": False,\n",
    "    \"multisource\": {\n",
    "        \"type\": \"points\",\n",
    "        \"energy_range\": [10000.0, 40000.0],\n",
    "        \"x_range\": [-2.5e-6, 2.5e-6],\n",
    "        \"z\": 0.0,\n",
    "        \"nr_source_points\": 100,\n",
    "        \"seed\": 1,\n",
    "        \"spectrum\": 'path/to/simulation_spectrum_file.h5',\n",
    "    },\n",
    "    \"elements\": [\n",
    "        {\n",
    "            \"type\": \"grating\",\n",
    "            \"pitch\": float(1e-6),\n",
    "            \"dc\": [0.4, 0.5],\n",
    "            \"z_start\": float(d1),#+0.1,\n",
    "            \"thickness\": float(thick),\n",
    "            \"nr_steps\": 20,\n",
    "            \"x_positions\": [0.0],\n",
    "            \"substrate_thickness\": (300 - float(thick)) * 1e-6,\n",
    "            \"mat_a\": [\"Si\", 2.34],\n",
    "            \"mat_b\": None,\n",
    "            \"mat_substrate\": [\"Si\", 2.34],\n",
    "        },\n",
    "        {\n",
    "            \"type\": \"grating\",\n",
    "            \"pitch\": float(1e-6),\n",
    "            \"dc\": [0.4, 0.5],\n",
    "            \"z_start\": float(d1+d2),#+0.1,\n",
    "            \"thickness\": float(thick),\n",
    "            \"nr_steps\": 20,\n",
    "            \"x_positions\": [float(i*1e-6) for i in np.linspace(0,1,11, endpoint=False)],\n",
    "            \"substrate_thickness\": (300 - float(thick)) * 1e-6,\n",
    "            \"mat_a\": [\"Si\", 2.34],\n",
    "            \"mat_b\": None,\n",
    "            \"mat_substrate\": [\"Si\", 2.34],\n",
    "        },\n",
    "    ],\n",
    "}\n",
    "sim_path = multisim.setup_simulation(config_dict, Path(\".\"), simulations_dir)\n",
    "for k in range(config_dict[\"multisource\"][\"nr_source_points\"]):\n",
    "    os.system(f\"CUDA_VISIBLE_DEVICES=0 path/to/rave-sim/fast-wave/build-Release/fastwave -s {k} {sim_path}\")"
   ]
  },
  {
   "cell_type": "code",
   "execution_count": null,
   "id": "8d0f71b2-3f16-4bb1-ac78-96cf8d05629f",
   "metadata": {},
   "outputs": [],
   "source": [
    "computed = config.load(Path(sim_path / 'computed.yaml'))\n",
    "wfs_tmp = util.load_wavefronts_filtered(sim_path, x_range=None, energy_range=None)\n",
    "wf = []\n",
    "for j in range(11):\n",
    "    tmp=[]\n",
    "    for k in range(len(computed[\"source_points\"])):\n",
    "        tmp.append(wfs_tmp[k][0][j])\n",
    "    wf.append(tmp)\n",
    "del wfs_tmp\n",
    "wf = np.asarray(wf)"
   ]
  },
  {
   "cell_type": "code",
   "execution_count": null,
   "id": "a9d1ff8f-2917-4be4-907e-0815d516cb50",
   "metadata": {},
   "outputs": [],
   "source": [
    "wf.shape"
   ]
  },
  {
   "cell_type": "code",
   "execution_count": null,
   "id": "b164984f-1d37-4379-ab4f-8187664f82e1",
   "metadata": {},
   "outputs": [],
   "source": [
    "wf_conv = np.asarray([np.convolve(wf[i].sum(axis=(0)), pixel_kernel[:], \"same\") for i in range(wf.shape[0])])"
   ]
  },
  {
   "cell_type": "code",
   "execution_count": null,
   "id": "08e95f46-f961-48cc-ac9f-38a6fc7785b4",
   "metadata": {},
   "outputs": [],
   "source": [
    "wf624 = wf\n",
    "wf_conv624 = wf_conv"
   ]
  },
  {
   "cell_type": "code",
   "execution_count": null,
   "id": "48b1589d-f179-4645-8535-b30b08e40409",
   "metadata": {},
   "outputs": [],
   "source": []
  },
  {
   "cell_type": "code",
   "execution_count": null,
   "id": "dbdcf10c-e317-4c25-803a-664202c955df",
   "metadata": {},
   "outputs": [],
   "source": [
    "pf = lambda d1, d2, d3: (d1+d2+d3)*1e-6/(2*d2)"
   ]
  },
  {
   "cell_type": "code",
   "execution_count": null,
   "id": "db7a2e5a-9937-4d8c-b052-1030b7e4063c",
   "metadata": {},
   "outputs": [],
   "source": [
    "pf(d1=21,d2=0.05, d3=10)"
   ]
  },
  {
   "cell_type": "markdown",
   "id": "52bfb5d3-8804-42fe-b34a-f29a5dcb566c",
   "metadata": {},
   "source": [
    "# Comparison"
   ]
  },
  {
   "cell_type": "code",
   "execution_count": null,
   "id": "4c6e490e-829b-4646-8480-7a10efd4f0c7",
   "metadata": {},
   "outputs": [],
   "source": [
    "import matplotlib.image as mpimg\n",
    "# manual download of Fig. 1 from publication https://doi.org/10.1364/OE.477964\n",
    "image_path = \"getimagev2.jpg\"\n",
    "image = mpimg.imread(image_path)"
   ]
  },
  {
   "cell_type": "code",
   "execution_count": null,
   "id": "ba55b7d1-e576-43d6-a977-bb86c989b586",
   "metadata": {},
   "outputs": [],
   "source": [
    "image.shape"
   ]
  },
  {
   "cell_type": "code",
   "execution_count": null,
   "id": "9e8a8dba-079e-46b8-8356-833a42c367de",
   "metadata": {},
   "outputs": [],
   "source": [
    "# Select the middle part of the image, around the yellow highlighted region in the provided image\n",
    "# Assuming the middle part is around 200 pixels height centered\n",
    "middle_section = image[195:205, :,:].sum(axis=-1)\n",
    "\n",
    "# Average the intensity over the selected middle section (to reduce noise)\n",
    "middle_section_avg = np.mean(middle_section, axis=0)[172:-47]\n",
    "\n",
    "# Plot the intensity profile of the middle part\n",
    "plt.figure(figsize=(10, 4))\n",
    "plt.plot(middle_section_avg, color='blue')\n",
    "plt.xlabel('Pixel index (x-axis)')\n",
    "plt.ylabel('Intensity')\n",
    "plt.title('Intensity profile of the middle part of the image')\n",
    "plt.grid(True)\n",
    "plt.show()"
   ]
  },
  {
   "cell_type": "code",
   "execution_count": null,
   "id": "3ff4f12a-3f60-42e6-93bd-1ae85149d405",
   "metadata": {},
   "outputs": [],
   "source": [
    "interpol = interp1d(np.arange(len(middle_section_avg)), middle_section_avg)"
   ]
  },
  {
   "cell_type": "code",
   "execution_count": null,
   "id": "48a939c4-5aab-4695-8edd-d0927cd9f4b4",
   "metadata": {},
   "outputs": [],
   "source": [
    "xs = np.linspace(0,len(middle_section_avg)-1, 2940)\n",
    "dat = interpol(xs)"
   ]
  },
  {
   "cell_type": "code",
   "execution_count": null,
   "id": "9a8d4caf-915a-4b66-be01-43a6f12d2017",
   "metadata": {},
   "outputs": [],
   "source": [
    "# Plot the intensity profile of the middle part\n",
    "plt.figure(figsize=(15, 4))\n",
    "x_t = (xs-xs[-1]/2)*2902/2147*16.4/1000\n",
    "plt.plot(x_t, dat, color='blue')\n",
    "plt.xlabel('Pixel index (x-axis)')\n",
    "plt.ylabel('Intensity')\n",
    "plt.title('Intensity profile of the middle part of the image')\n",
    "plt.grid(True)\n",
    "plt.show()"
   ]
  },
  {
   "cell_type": "code",
   "execution_count": null,
   "id": "b30c9868-0157-40f6-a07d-d178442661d0",
   "metadata": {},
   "outputs": [],
   "source": [
    "incident_angle = np.arctan(my_x/1)"
   ]
  },
  {
   "cell_type": "code",
   "execution_count": null,
   "id": "4d2e7149-df42-4b5b-857c-00e56aa7a0b1",
   "metadata": {},
   "outputs": [],
   "source": []
  },
  {
   "cell_type": "markdown",
   "id": "71f4d68c-1a62-4893-b7ba-dc6d6f6ddf2c",
   "metadata": {},
   "source": [
    "# Plotting"
   ]
  },
  {
   "cell_type": "code",
   "execution_count": null,
   "id": "987adfc8-a106-4c73-bf90-22fdfc69012d",
   "metadata": {},
   "outputs": [],
   "source": [
    "# matplotlib style\n",
    "plt.style.use(\"default\")\n",
    "\n",
    "plt.rcParams[\"font.family\"] = \"serif\"\n",
    "plt.rcParams[\"font.size\"] = 9\n",
    "plt.rcParams[\"figure.dpi\"] = 200\n",
    "plt.rcParams[\"figure.constrained_layout.use\"] = \"True\"\n",
    "\n",
    "\n",
    "# Okabe-Ito palette\n",
    "plt.rcParams[\"axes.prop_cycle\"] = plt.cycler(\n",
    "    color=[\n",
    "        \"#000000\",\n",
    "        \"#E69F00\",\n",
    "        \"#56B4E9\",\n",
    "        \"#009E73\",\n",
    "        \"#F0E442\",\n",
    "        \"#0072B2\",\n",
    "        \"#D55E00\",\n",
    "        \"#CC79A7\",\n",
    "    ],\n",
    "    marker=[\"\", \"\", \"\", \"\", \"D\", \"v\", \"v\", \"d\"],\n",
    ")"
   ]
  },
  {
   "cell_type": "code",
   "execution_count": null,
   "id": "610faf28-eb7d-49ba-8518-40db2fea84bb",
   "metadata": {},
   "outputs": [],
   "source": [
    "visibility_color = \"forestgreen\"\n",
    "fringe_color = \"dimgray\"\n",
    "visibility_lw = 2.5\n",
    "fringe_lw = 1\n",
    "fringe_comp_lw = 1.5\n",
    "fontsize = 10\n",
    "fontsize_title = 14\n",
    "visibility_bl = 0.04\n",
    "visibility_ul = 0.22"
   ]
  },
  {
   "cell_type": "code",
   "execution_count": null,
   "id": "c1177ed0-69bb-4c86-a963-fb5b16a27b26",
   "metadata": {},
   "outputs": [],
   "source": [
    "matcher = np.s_[:]\n",
    "offset = 2"
   ]
  },
  {
   "cell_type": "code",
   "execution_count": null,
   "id": "3944d18a-287f-4117-b4a9-a4de1bf97a18",
   "metadata": {},
   "outputs": [],
   "source": [
    "c_fringe = \"#000000\"\n",
    "c_visi = \"#009E73\"\n",
    "c_visi_label = \"#005740\"\n",
    "c_fcomp = \"#CC79A7\"\n",
    "c_center = \"blue\"\n",
    "c_side = \"orangered\""
   ]
  },
  {
   "cell_type": "code",
   "execution_count": null,
   "id": "23f860ef-5897-4966-a935-d3f879a1a76d",
   "metadata": {},
   "outputs": [],
   "source": [
    "visis224 = (wf_conv224[:,:].max(axis=0)-wf_conv224[:,:].min(axis=0))/(wf_conv224[:,:].max(axis=0)+wf_conv224[:,:].min(axis=0))\n",
    "fig, axes = plt.subplot_mosaic(\"AAAB;AAAC;DDDE;DDDF;GGGH;GGGI\", figsize=(27/1.5/1.5,25/2/2))\n",
    "\n",
    "# top plots\n",
    "ax1 = axes[\"A\"]\n",
    "ax2 = axes[\"A\"].twinx()\n",
    "ax2.plot(my_x[50:-50]*1e3, np.convolve(visis224, pixel_kernel, \"same\")[50:-50]/np.convolve(visis224, pixel_kernel, \"same\")[50:-50].max()*visis224.max(), color=c_visi, lw=visibility_lw)\n",
    "ax2.tick_params(axis='y', labelcolor=c_visi_label, labelsize = fontsize)\n",
    "ax1.tick_params(axis='y', labelcolor=\"black\", labelsize = fontsize)\n",
    "ax1.tick_params(axis='x', labelcolor=\"black\", labelsize = fontsize)\n",
    "\n",
    "convo = wf_conv224[1,:]\n",
    "convo = convo/convo.max()\n",
    "ax1.plot(my_x[50:-50]*1e3, convo[50:-50], color=c_fringe, lw=fringe_lw)\n",
    "ax1.plot(x_t[matcher]+offset*(x_t[1]-x_t[0]), (dat[matcher]+420)/(dat[matcher]+400).max(), linestyle=(0,(0.75,0.75)), color=c_fcomp, lw=fringe_comp_lw)\n",
    "ax1.set_ylim(0.6,1.05)\n",
    "ax1.set_ylabel(\"Intensity [a. u.]\", fontsize = fontsize)\n",
    "ax2.set_ylabel(\"Visibility\", color=c_visi_label, fontsize = fontsize)\n",
    "ax2.set_ylim(visibility_bl,visibility_ul)\n",
    "ax1.set_title(\"Inter-grating distance 2.24 mm\", fontsize = fontsize_title, fontweight='normal')\n",
    "ax2.set_xlim(-14.7,14.7)\n",
    "\n",
    "# top right\n",
    "axes[\"B\"].plot(incident_angle[abs(incident_angle)/(2*np.pi)*360<0.02]/np.pi/2*360, convo[abs(incident_angle)/(2*np.pi)*360<0.02], color=c_center)\n",
    "ax1.plot(my_x[abs(incident_angle)/(2*np.pi)*360<0.02]*1e3, convo[abs(incident_angle)/(2*np.pi)*360<0.02], color=c_center)\n",
    "axes[\"B\"].plot(np.arctan((x_t[matcher]-2*(x_t[1]-x_t[0]))/1000)/(2*np.pi)*360, (dat[matcher]+400)/(dat[matcher]+400).max(), color=c_fcomp)\n",
    "axes[\"B\"].yaxis.set_visible(False)\n",
    "axes[\"B\"].spines['top'].set_visible(False)\n",
    "axes[\"B\"].spines['right'].set_visible(False)\n",
    "axes[\"B\"].spines['left'].set_visible(False)\n",
    "axes[\"B\"].tick_params(axis='x', which='both', bottom=True, top=False, labelbottom=True, labelsize = fontsize)\n",
    "axes[\"B\"].set_xlim(-0.02,0.02)\n",
    "axes[\"B\"].set_ylim(0.7,0.9)\n",
    "\n",
    "\n",
    "# bottom right\n",
    "axes[\"C\"].plot(incident_angle[abs(incident_angle/(2*np.pi)*360-0.545)<0.025]/np.pi/2*360, convo[abs(incident_angle/(2*np.pi)*360-0.545)<0.025], color=c_side)\n",
    "ax1.plot(my_x[abs(incident_angle/(2*np.pi)*360-0.545)<0.025]*1e3, convo[abs(incident_angle/(2*np.pi)*360-0.545)<0.025], color=c_side)\n",
    "axes[\"C\"].plot(np.arctan((x_t[matcher]+offset*(x_t[1]-x_t[0]))/1000)/(2*np.pi)*360, (dat[matcher]+420)/(dat[matcher]+400).max(), color=c_fcomp)\n",
    "axes[\"C\"].yaxis.set_visible(False)\n",
    "axes[\"C\"].spines['top'].set_visible(False)\n",
    "axes[\"C\"].spines['right'].set_visible(False)\n",
    "axes[\"C\"].spines['left'].set_visible(False)\n",
    "axes[\"C\"].tick_params(axis='x', which='both', bottom=True, top=False, labelbottom=True, labelsize = fontsize)\n",
    "axes[\"C\"].set_xlim(0.52,0.57)\n",
    "\n",
    "\n",
    "# middle plots\n",
    "visis424 = (wf_conv424[:,:].max(axis=0)-wf_conv424[:,:].min(axis=0))/(wf_conv424[:,:].max(axis=0)+wf_conv424[:,:].min(axis=0))\n",
    "ax1 = axes[\"D\"]\n",
    "ax2 = axes[\"D\"].twinx()\n",
    "ax2.plot(my_x[50:-50]*1e3, np.convolve(visis424, pixel_kernel, \"same\")[50:-50]/np.convolve(visis424, pixel_kernel, \"same\")[50:-50].max()*visis424.max(), color=c_visi, lw=visibility_lw)\n",
    "ax2.tick_params(axis='y', labelcolor=c_visi_label, labelsize = fontsize)\n",
    "ax1.tick_params(axis='y', labelcolor=\"black\", labelsize = fontsize)\n",
    "ax1.tick_params(axis='x', labelcolor=\"black\", labelsize = fontsize)\n",
    "\n",
    "convo = wf_conv424[1,:]\n",
    "convo = convo/convo.max()\n",
    "ax1.plot(my_x[50:-50]*1e3, convo[50:-50], color=c_fringe, lw=fringe_lw)\n",
    "ax1.set_ylim(0.6,1.05)\n",
    "ax1.set_ylabel(\"Intensity [a. u.]\", fontsize = fontsize)\n",
    "ax2.set_ylabel(\"Visibility\", color=c_visi_label, fontsize = fontsize)\n",
    "ax2.set_ylim(visibility_bl,visibility_ul)\n",
    "ax1.set_title(\"Inter-grating distance 4.24 mm\", fontsize = fontsize_title, fontweight='normal')\n",
    "ax2.set_xlim(-14.7,14.7)\n",
    "\n",
    "# top right\n",
    "axes[\"E\"].plot(incident_angle[abs(incident_angle)/(2*np.pi)*360<0.02]/np.pi/2*360, wf_conv424[1,abs(incident_angle)/(2*np.pi)*360<0.02]*100, color=c_center)\n",
    "ax1.plot(my_x[abs(incident_angle)/(2*np.pi)*360<0.02]*1e3, convo[abs(incident_angle)/(2*np.pi)*360<0.02], color=c_center)\n",
    "axes[\"E\"].yaxis.set_visible(False)\n",
    "axes[\"E\"].spines['top'].set_visible(False)\n",
    "axes[\"E\"].spines['right'].set_visible(False)\n",
    "axes[\"E\"].spines['left'].set_visible(False)\n",
    "axes[\"E\"].tick_params(axis='x', which='both', bottom=True, top=False, labelbottom=True, labelsize = fontsize)\n",
    "axes[\"E\"].set_xlim(-0.02,0.02)\n",
    "\n",
    "\n",
    "# bottom right\n",
    "axes[\"F\"].plot(incident_angle[abs(incident_angle/(2*np.pi)*360-0.545)<0.025]/np.pi/2*360, wf_conv424[1,abs(incident_angle/(2*np.pi)*360-0.545)<0.025], color=c_side)\n",
    "ax1.plot(my_x[abs(incident_angle/(2*np.pi)*360-0.545)<0.025]*1e3, convo[abs(incident_angle/(2*np.pi)*360-0.545)<0.025], color=c_side)\n",
    "axes[\"F\"].yaxis.set_visible(False)\n",
    "axes[\"F\"].spines['top'].set_visible(False)\n",
    "axes[\"F\"].spines['right'].set_visible(False)\n",
    "axes[\"F\"].spines['left'].set_visible(False)\n",
    "axes[\"F\"].tick_params(axis='x', which='both', bottom=True, top=False, labelbottom=True, labelsize = fontsize)\n",
    "axes[\"F\"].set_xlim(0.52,0.57)\n",
    "\n",
    "\n",
    "# bottom plot\n",
    "visis624 = (wf_conv624[:,:].max(axis=0)-wf_conv624[:,:].min(axis=0))/(wf_conv624[:,:].max(axis=0)+wf_conv624[:,:].min(axis=0))\n",
    "ax1 = axes[\"G\"]\n",
    "ax2 = axes[\"G\"].twinx()\n",
    "ax2.plot(my_x[50:-50]*1e3, np.convolve(visis624, pixel_kernel, \"same\")[50:-50]/np.convolve(visis624, pixel_kernel, \"same\")[50:-50].max()*visis624.max(), color=c_visi, lw=visibility_lw)\n",
    "ax2.tick_params(axis='y', labelcolor=c_visi_label, labelsize = fontsize)\n",
    "ax1.tick_params(axis='y', labelcolor=\"black\", labelsize = fontsize)\n",
    "ax1.tick_params(axis='x', labelcolor=\"black\", labelsize = fontsize)\n",
    "\n",
    "convo = wf_conv624[1,:]\n",
    "convo = convo/convo.max()\n",
    "ax1.plot(my_x[50:-50]*1e3, convo[50:-50], color=c_fringe, lw=fringe_lw)\n",
    "ax1.set_ylim(0.6,1.05)\n",
    "ax1.set_ylabel(\"Intensity [a. u.]\", fontsize = fontsize)\n",
    "ax2.set_ylabel(\"Visibility\", color=c_visi_label, fontsize = fontsize)\n",
    "ax2.set_ylim(visibility_bl,visibility_ul)\n",
    "ax1.set_title(\"Inter-grating distance 6.24 mm\", fontsize = fontsize_title, fontweight='normal')\n",
    "ax2.set_xlim(-14.7,14.7)\n",
    "ax1.set_xlabel(\"distance from center / mm\", fontsize = fontsize)\n",
    "\n",
    "# top right\n",
    "axes[\"H\"].plot(incident_angle[abs(incident_angle)/(2*np.pi)*360<0.02]/np.pi/2*360, wf_conv624[1,abs(incident_angle)/(2*np.pi)*360<0.02], color=c_center)\n",
    "ax1.plot(my_x[abs(incident_angle)/(2*np.pi)*360<0.02]*1e3, convo[abs(incident_angle)/(2*np.pi)*360<0.02], color=c_center)\n",
    "axes[\"H\"].yaxis.set_visible(False)\n",
    "axes[\"H\"].spines['top'].set_visible(False)\n",
    "axes[\"H\"].spines['right'].set_visible(False)\n",
    "axes[\"H\"].spines['left'].set_visible(False)\n",
    "axes[\"H\"].tick_params(axis='x', which='both', bottom=True, top=False, labelbottom=True, labelsize = fontsize)\n",
    "axes[\"H\"].set_xlim(-0.02,0.02)\n",
    "\n",
    "# bottom right\n",
    "axes[\"I\"].plot(incident_angle[abs(incident_angle/(2*np.pi)*360-0.545)<0.025]/np.pi/2*360, wf_conv624[1,abs(incident_angle/(2*np.pi)*360-0.545)<0.025], color=c_side)\n",
    "ax1.plot(my_x[abs(incident_angle/(2*np.pi)*360-0.545)<0.025]*1e3, convo[abs(incident_angle/(2*np.pi)*360-0.545)<0.025], color=c_side)\n",
    "axes[\"I\"].yaxis.set_visible(False)\n",
    "axes[\"I\"].spines['top'].set_visible(False)\n",
    "axes[\"I\"].spines['right'].set_visible(False)\n",
    "axes[\"I\"].spines['left'].set_visible(False)\n",
    "axes[\"I\"].tick_params(axis='x', which='both', bottom=True, top=False, labelbottom=True, labelsize = fontsize)\n",
    "axes[\"I\"].set_xlim(0.52,0.57)\n",
    "axes[\"I\"].set_xlabel(\"Incident angle / deg\", fontsize = fontsize)\n",
    "\n",
    "fig.tight_layout()\n",
    "axes[\"A\"].set_facecolor('whitesmoke')\n",
    "axes[\"D\"].set_facecolor('whitesmoke')\n",
    "axes[\"G\"].set_facecolor('whitesmoke')\n"
   ]
  },
  {
   "cell_type": "code",
   "execution_count": null,
   "id": "eca0a229-99c7-49bd-afab-a5bba680b671",
   "metadata": {},
   "outputs": [],
   "source": []
  }
 ],
 "metadata": {
  "kernelspec": {
   "display_name": "Python 3 (ipykernel)",
   "language": "python",
   "name": "python3"
  },
  "language_info": {
   "codemirror_mode": {
    "name": "ipython",
    "version": 3
   },
   "file_extension": ".py",
   "mimetype": "text/x-python",
   "name": "python",
   "nbconvert_exporter": "python",
   "pygments_lexer": "ipython3",
   "version": "3.11.7"
  }
 },
 "nbformat": 4,
 "nbformat_minor": 5
}
