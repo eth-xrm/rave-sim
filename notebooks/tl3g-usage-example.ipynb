{
 "cells": [
  {
   "cell_type": "markdown",
   "id": "3380fd9f-fe1a-441b-a94c-57defa74e218",
   "metadata": {},
   "source": [
    "From publications DOI: <a href=\"http://doi.org/10.1364/OPTICA.487795\">http://doi.org/10.1364/OPTICA.487795</a> and DOI: <a href=\"https://doi.org/10.1038/s41598-023-29762-y\">https://doi.org/10.1038/s41598-023-29762-y</a>"
   ]
  },
  {
   "cell_type": "code",
   "execution_count": null,
   "id": "4d556aed",
   "metadata": {},
   "outputs": [],
   "source": [
    "# Copyright (c) 2024, ETH Zurich"
   ]
  },
  {
   "cell_type": "code",
   "execution_count": null,
   "id": "10ef1c7d",
   "metadata": {},
   "outputs": [],
   "source": [
    "import sys\n",
    "from pathlib import Path\n",
    "import numpy as np\n",
    "import matplotlib.pyplot as plt"
   ]
  },
  {
   "cell_type": "code",
   "execution_count": null,
   "id": "e95f89a6",
   "metadata": {},
   "outputs": [],
   "source": [
    "rave_sim_dir = Path('<PATH/TO/rave-sim>')\n",
    "simulations_dir = Path('<PATH/WHERE/TO/STORE/SIMULATION/>')\n",
    "scratch_dir = simulations_dir"
   ]
  },
  {
   "cell_type": "code",
   "execution_count": null,
   "id": "141a157e",
   "metadata": {},
   "outputs": [],
   "source": [
    "sys.path.insert(0, str(rave_sim_dir / \"big-wave\"))\n",
    "import multisim\n",
    "import config\n",
    "import util"
   ]
  },
  {
   "cell_type": "code",
   "execution_count": null,
   "id": "d84023e0-ba4d-48da-a22d-b65c817e690a",
   "metadata": {},
   "outputs": [],
   "source": [
    "config_dict = {\n",
    "    \"sim_params\": {\n",
    "        \"N\": 2**22,\n",
    "        \"dx\": 3.1e-10,\n",
    "        \"z_detector\": 1.77,\n",
    "        \"detector_size\": 2e-4,\n",
    "        \"detector_pixel_size_x\": 1e-6,\n",
    "        \"detector_pixel_size_y\": 1,\n",
    "        \"chunk_size\": 256 * 1024 * 1024 // 16,  # use 256MB chunks\n",
    "    },\n",
    "    \"use_disk_vector\": False,\n",
    "    \"save_final_u_vectors\": False,\n",
    "    \"multisource\": {\n",
    "        \"type\": \"points\",\n",
    "        \"energy_range\": [46000.0, 47000.0],\n",
    "        \"x_range\": [-1e-6, 1e-6],\n",
    "        \"z\": 0.0,\n",
    "        \"nr_source_points\": 3,\n",
    "        \"seed\": 1,\n",
    "    },\n",
    "    \"elements\": [\n",
    "        {\n",
    "            \"type\": \"grating\",\n",
    "            \"pitch\": 4.2e-6,\n",
    "            \"dc\": [0.5, 0.5],\n",
    "            \"z_start\": 0.1,\n",
    "            \"thickness\": 140e-6,\n",
    "            \"nr_steps\": 8,\n",
    "            \"x_positions\": [0.0],\n",
    "            \"substrate_thickness\": (370 - 140) * 1e-6,\n",
    "            \"mat_a\": [\"Si\", 2.34],\n",
    "            \"mat_b\": [\"Au\", 19.32],\n",
    "            \"mat_substrate\": [\"Si\", 2.34],\n",
    "        },\n",
    "        {\n",
    "            \"type\": \"grating\",\n",
    "            \"pitch\": 4.2e-6,\n",
    "            \"dc\": [0.5, 0.5],\n",
    "            \"z_start\": 0.918,\n",
    "            \"thickness\": 59e-6,\n",
    "            \"nr_steps\": 8,\n",
    "            \"x_positions\": [0.0],\n",
    "            \"substrate_thickness\": (200 - 59) * 1e-6,\n",
    "            \"mat_a\": [\"Si\", 2.34],\n",
    "            \"mat_b\": None,\n",
    "            \"mat_substrate\": [\"Si\", 2.34],\n",
    "        },\n",
    "        {\n",
    "            \"type\": \"grating\",\n",
    "            \"pitch\": 4.2e-6,\n",
    "            \"dc\": [0.5, 0.5],\n",
    "            \"z_start\": 1.736,\n",
    "            \"thickness\": 154e-6,\n",
    "            \"nr_steps\": 8,\n",
    "            \"x_positions\": np.linspace(0, 4.2e-6, 5, endpoint=False).tolist(),\n",
    "            \"substrate_thickness\": (370 - 154) * 1e-6,\n",
    "            \"mat_a\": [\"Si\", 2.34],\n",
    "            \"mat_b\": [\"Au\", 19.32],\n",
    "            \"mat_substrate\": [\"Si\", 2.34],\n",
    "        },\n",
    "    ],\n",
    "}\n",
    "\n",
    "print(\"N: \", config_dict[\"sim_params\"][\"N\"])"
   ]
  },
  {
   "cell_type": "code",
   "execution_count": null,
   "id": "01fb33c7-f97d-46dc-814e-dcbab8bd2084",
   "metadata": {},
   "outputs": [],
   "source": [
    "sim_path = multisim.setup_simulation(config_dict, Path(\".\"), simulations_dir)"
   ]
  },
  {
   "cell_type": "code",
   "execution_count": null,
   "id": "4a301c8a-82c2-4fd0-9b46-8eccaab3fbdf",
   "metadata": {},
   "outputs": [],
   "source": [
    "computed = config.load(Path(sim_path / 'computed.yaml'))\n",
    "\n",
    "print(\"cutoff angles:\", computed['cutoff_angles'])\n",
    "print(\"source points:\", computed['source_points'])"
   ]
  },
  {
   "cell_type": "code",
   "execution_count": null,
   "id": "8aa7312e",
   "metadata": {},
   "outputs": [],
   "source": [
    "# Run this in a for loop to simulate all source points or\n",
    "# alternatively run the source points as individual euler\n",
    "# jobs\n",
    "multisim.run_single_simulation(sim_path, 0, scratch_dir, save_keypoints_path=scratch_dir)"
   ]
  },
  {
   "cell_type": "code",
   "execution_count": null,
   "id": "9363befa",
   "metadata": {},
   "outputs": [],
   "source": [
    "wavefronts = util.load_wavefronts_filtered(sim_path, x_range=(-4e-7, 0))\n",
    "print(\"nr sources loaded:\", len(wavefronts))\n",
    "\n",
    "wf = wavefronts[0][0]\n",
    "print(\"nr phase steps:\", wf.shape[0])\n",
    "print(\"nr detector pixels:\", wf.shape[1])"
   ]
  },
  {
   "cell_type": "code",
   "execution_count": null,
   "id": "173a4986",
   "metadata": {},
   "outputs": [],
   "source": [
    "sp = config_dict[\"sim_params\"]\n",
    "detector_x = util.detector_x_vector(sp[\"detector_size\"], sp[\"detector_pixel_size_x\"])\n",
    "plt.plot(detector_x, wf[0])"
   ]
  },
  {
   "cell_type": "code",
   "execution_count": null,
   "id": "a9801790",
   "metadata": {},
   "outputs": [],
   "source": [
    "full_x = util.full_x_vector(sp[\"N\"], sp[\"dx\"])\n",
    "kp = util.load_keypoints(scratch_dir)"
   ]
  },
  {
   "cell_type": "code",
   "execution_count": null,
   "id": "117eda5b",
   "metadata": {},
   "outputs": [],
   "source": [
    "plt.plot(full_x, np.abs(kp[4]) ** 2)\n",
    "plt.xlim(-3e-5, 3e-5)\n",
    "\n",
    "for i in range(-50, 50):\n",
    "    plt.axvline(i * 4.2e-6)\n",
    "\n",
    "plt.show()"
   ]
  },
  {
   "cell_type": "markdown",
   "id": "fbe420b4",
   "metadata": {},
   "source": [
    "## History\n",
    "\n",
    "To see the interference pattern in empty space, we can record slices throughout the simulation and then plot them. `run_single_simulation` takes an optional argument `history_dz` defining the resolution with which we record the history.\n",
    "\n",
    "Note that the history is not necessarily recorded with a constant z-spacing. Inside gratings and samples, one slice is recorded for every step. The history also records a list of z-coordinates at which the slices were recorded, which we can use for plotting."
   ]
  },
  {
   "cell_type": "code",
   "execution_count": null,
   "id": "93e5ce0a",
   "metadata": {},
   "outputs": [],
   "source": [
    "multisim.run_single_simulation(sim_path, 1, scratch_dir, save_keypoints_path=None, history_dz=0.02)"
   ]
  },
  {
   "cell_type": "code",
   "execution_count": null,
   "id": "26a67a4e",
   "metadata": {},
   "outputs": [],
   "source": [
    "# Path to the directory for the source with index 1\n",
    "source_dir = multisim.get_sub_dir(sim_path, 1)\n",
    "\n",
    "hist_x = np.load(source_dir / \"history_x.npy\")\n",
    "hist_z = np.load(source_dir / \"history_z.npy\")\n",
    "hist = np.load(source_dir / \"history.npy\")\n",
    "plt.pcolormesh(\n",
    "    hist_z,\n",
    "    hist_x,\n",
    "    hist,\n",
    "    cmap=\"Greys_r\",\n",
    "    vmin=0,\n",
    "    vmax=1e-6,\n",
    "    shading=\"nearest\",\n",
    ")\n",
    "plt.xlabel(\"z (m)\")\n",
    "plt.ylabel(\"x (m)\")"
   ]
  },
  {
   "cell_type": "code",
   "execution_count": null,
   "id": "700edc2c-c919-4e88-8675-b6b291b21e4c",
   "metadata": {},
   "outputs": [],
   "source": []
  }
 ],
 "metadata": {
  "kernelspec": {
   "display_name": "Python 3",
   "language": "python",
   "name": "python3"
  },
  "language_info": {
   "codemirror_mode": {
    "name": "ipython",
    "version": 3
   },
   "file_extension": ".py",
   "mimetype": "text/x-python",
   "name": "python",
   "nbconvert_exporter": "python",
   "pygments_lexer": "ipython3",
   "version": "3.9.2"
  }
 },
 "nbformat": 4,
 "nbformat_minor": 5
}
